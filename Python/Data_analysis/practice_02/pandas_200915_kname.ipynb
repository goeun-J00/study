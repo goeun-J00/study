{
 "cells": [
  {
   "cell_type": "code",
   "execution_count": 1,
   "metadata": {},
   "outputs": [],
   "source": [
    "import pandas as pd\n",
    "import numpy as np\n",
    "import matplotlib.font_manager as fm\n",
    "import matplotlib.pyplot as plt"
   ]
  },
  {
   "cell_type": "code",
   "execution_count": 2,
   "metadata": {},
   "outputs": [],
   "source": [
    "font_path = 'C:/Windows/Fonts/NGULIM.TTF'\n",
    "fontprop = fm.FontProperties(fname=font_path, size=15)\n",
    "font_family = fm.FontProperties(fname=font_path).get_name()\n",
    "\n",
    "plt.rcParams[\"font.family\"] = font_family"
   ]
  },
  {
   "cell_type": "code",
   "execution_count": 3,
   "metadata": {},
   "outputs": [
    {
     "data": {
      "text/html": [
       "<div>\n",
       "<style scoped>\n",
       "    .dataframe tbody tr th:only-of-type {\n",
       "        vertical-align: middle;\n",
       "    }\n",
       "\n",
       "    .dataframe tbody tr th {\n",
       "        vertical-align: top;\n",
       "    }\n",
       "\n",
       "    .dataframe thead th {\n",
       "        text-align: right;\n",
       "    }\n",
       "</style>\n",
       "<table border=\"1\" class=\"dataframe\">\n",
       "  <thead>\n",
       "    <tr style=\"text-align: right;\">\n",
       "      <th></th>\n",
       "      <th>name</th>\n",
       "      <th>gender</th>\n",
       "      <th>births</th>\n",
       "      <th>year</th>\n",
       "    </tr>\n",
       "  </thead>\n",
       "  <tbody>\n",
       "    <tr>\n",
       "      <th>0</th>\n",
       "      <td>서연</td>\n",
       "      <td>F</td>\n",
       "      <td>3280</td>\n",
       "      <td>2008</td>\n",
       "    </tr>\n",
       "    <tr>\n",
       "      <th>1</th>\n",
       "      <td>민서</td>\n",
       "      <td>F</td>\n",
       "      <td>2873</td>\n",
       "      <td>2008</td>\n",
       "    </tr>\n",
       "    <tr>\n",
       "      <th>2</th>\n",
       "      <td>지민</td>\n",
       "      <td>F</td>\n",
       "      <td>2826</td>\n",
       "      <td>2008</td>\n",
       "    </tr>\n",
       "    <tr>\n",
       "      <th>3</th>\n",
       "      <td>서현</td>\n",
       "      <td>F</td>\n",
       "      <td>2606</td>\n",
       "      <td>2008</td>\n",
       "    </tr>\n",
       "    <tr>\n",
       "      <th>4</th>\n",
       "      <td>서윤</td>\n",
       "      <td>F</td>\n",
       "      <td>2484</td>\n",
       "      <td>2008</td>\n",
       "    </tr>\n",
       "    <tr>\n",
       "      <th>...</th>\n",
       "      <td>...</td>\n",
       "      <td>...</td>\n",
       "      <td>...</td>\n",
       "      <td>...</td>\n",
       "    </tr>\n",
       "    <tr>\n",
       "      <th>12995</th>\n",
       "      <td>민승</td>\n",
       "      <td>M</td>\n",
       "      <td>20</td>\n",
       "      <td>2020</td>\n",
       "    </tr>\n",
       "    <tr>\n",
       "      <th>12996</th>\n",
       "      <td>규담</td>\n",
       "      <td>M</td>\n",
       "      <td>20</td>\n",
       "      <td>2020</td>\n",
       "    </tr>\n",
       "    <tr>\n",
       "      <th>12997</th>\n",
       "      <td>영웅</td>\n",
       "      <td>M</td>\n",
       "      <td>20</td>\n",
       "      <td>2020</td>\n",
       "    </tr>\n",
       "    <tr>\n",
       "      <th>12998</th>\n",
       "      <td>재성</td>\n",
       "      <td>M</td>\n",
       "      <td>20</td>\n",
       "      <td>2020</td>\n",
       "    </tr>\n",
       "    <tr>\n",
       "      <th>12999</th>\n",
       "      <td>주빈</td>\n",
       "      <td>M</td>\n",
       "      <td>20</td>\n",
       "      <td>2020</td>\n",
       "    </tr>\n",
       "  </tbody>\n",
       "</table>\n",
       "<p>13000 rows × 4 columns</p>\n",
       "</div>"
      ],
      "text/plain": [
       "      name gender  births  year\n",
       "0       서연      F    3280  2008\n",
       "1       민서      F    2873  2008\n",
       "2       지민      F    2826  2008\n",
       "3       서현      F    2606  2008\n",
       "4       서윤      F    2484  2008\n",
       "...    ...    ...     ...   ...\n",
       "12995   민승      M      20  2020\n",
       "12996   규담      M      20  2020\n",
       "12997   영웅      M      20  2020\n",
       "12998   재성      M      20  2020\n",
       "12999   주빈      M      20  2020\n",
       "\n",
       "[13000 rows x 4 columns]"
      ]
     },
     "execution_count": 3,
     "metadata": {},
     "output_type": "execute_result"
    }
   ],
   "source": [
    "years = range(2008, 2021)\n",
    "pieces = []\n",
    "columns = ['name', 'gender', 'births']\n",
    "\n",
    "for year in years:\n",
    "    path = 'data/korean_names/y{}.txt'.format(year)\n",
    "    frame = pd.read_csv(path, names=columns)\n",
    "    frame['year'] = year\n",
    "    pieces.append(frame)\n",
    "names = pd.concat(pieces, ignore_index=True)\n",
    "names"
   ]
  },
  {
   "cell_type": "code",
   "execution_count": 4,
   "metadata": {},
   "outputs": [
    {
     "data": {
      "text/plain": [
       "year\n",
       "2008    360345\n",
       "2009    352684\n",
       "2010    373217\n",
       "2011    379219\n",
       "2012    389423\n",
       "2013    362774\n",
       "2014    361609\n",
       "2015    368277\n",
       "2016    342643\n",
       "2017    303033\n",
       "2018    282588\n",
       "2019    262246\n",
       "2020    102776\n",
       "Name: births, dtype: int64"
      ]
     },
     "execution_count": 4,
     "metadata": {},
     "output_type": "execute_result"
    }
   ],
   "source": [
    "# 해당 년도의 태어난 아이 수\n",
    "year_sum = names.groupby('year').births.sum()\n",
    "year_sum"
   ]
  },
  {
   "cell_type": "code",
   "execution_count": 5,
   "metadata": {},
   "outputs": [
    {
     "data": {
      "text/plain": [
       "<matplotlib.axes._subplots.AxesSubplot at 0x2634567a160>"
      ]
     },
     "execution_count": 5,
     "metadata": {},
     "output_type": "execute_result"
    },
    {
     "data": {
      "image/png": "[encoded data removed]",
      "text/plain": [
       "<Figure size 432x288 with 1 Axes>"
      ]
     },
     "metadata": {
      "needs_background": "light"
     },
     "output_type": "display_data"
    }
   ],
   "source": [
    "# 그 해에 남여가 얼마나 태어났는지\n",
    "total_births = names.pivot_table('births', index='year', columns='gender', aggfunc=sum)\n",
    "total_births.plot(title='Total Births(gender / year)')"
   ]
  },
  {
   "cell_type": "code",
   "execution_count": 6,
   "metadata": {},
   "outputs": [
    {
     "data": {
      "text/html": [
       "<div>\n",
       "<style scoped>\n",
       "    .dataframe tbody tr th:only-of-type {\n",
       "        vertical-align: middle;\n",
       "    }\n",
       "\n",
       "    .dataframe tbody tr th {\n",
       "        vertical-align: top;\n",
       "    }\n",
       "\n",
       "    .dataframe thead th {\n",
       "        text-align: right;\n",
       "    }\n",
       "</style>\n",
       "<table border=\"1\" class=\"dataframe\">\n",
       "  <thead>\n",
       "    <tr style=\"text-align: right;\">\n",
       "      <th></th>\n",
       "      <th>name</th>\n",
       "      <th>gender</th>\n",
       "      <th>births</th>\n",
       "      <th>year</th>\n",
       "      <th>prop</th>\n",
       "    </tr>\n",
       "  </thead>\n",
       "  <tbody>\n",
       "    <tr>\n",
       "      <th>0</th>\n",
       "      <td>서연</td>\n",
       "      <td>F</td>\n",
       "      <td>3280</td>\n",
       "      <td>2008</td>\n",
       "      <td>0.017147</td>\n",
       "    </tr>\n",
       "    <tr>\n",
       "      <th>1</th>\n",
       "      <td>민서</td>\n",
       "      <td>F</td>\n",
       "      <td>2873</td>\n",
       "      <td>2008</td>\n",
       "      <td>0.015020</td>\n",
       "    </tr>\n",
       "    <tr>\n",
       "      <th>2</th>\n",
       "      <td>지민</td>\n",
       "      <td>F</td>\n",
       "      <td>2826</td>\n",
       "      <td>2008</td>\n",
       "      <td>0.014774</td>\n",
       "    </tr>\n",
       "    <tr>\n",
       "      <th>3</th>\n",
       "      <td>서현</td>\n",
       "      <td>F</td>\n",
       "      <td>2606</td>\n",
       "      <td>2008</td>\n",
       "      <td>0.013624</td>\n",
       "    </tr>\n",
       "    <tr>\n",
       "      <th>4</th>\n",
       "      <td>서윤</td>\n",
       "      <td>F</td>\n",
       "      <td>2484</td>\n",
       "      <td>2008</td>\n",
       "      <td>0.012986</td>\n",
       "    </tr>\n",
       "    <tr>\n",
       "      <th>...</th>\n",
       "      <td>...</td>\n",
       "      <td>...</td>\n",
       "      <td>...</td>\n",
       "      <td>...</td>\n",
       "      <td>...</td>\n",
       "    </tr>\n",
       "    <tr>\n",
       "      <th>12995</th>\n",
       "      <td>민승</td>\n",
       "      <td>M</td>\n",
       "      <td>20</td>\n",
       "      <td>2020</td>\n",
       "      <td>0.000398</td>\n",
       "    </tr>\n",
       "    <tr>\n",
       "      <th>12996</th>\n",
       "      <td>규담</td>\n",
       "      <td>M</td>\n",
       "      <td>20</td>\n",
       "      <td>2020</td>\n",
       "      <td>0.000398</td>\n",
       "    </tr>\n",
       "    <tr>\n",
       "      <th>12997</th>\n",
       "      <td>영웅</td>\n",
       "      <td>M</td>\n",
       "      <td>20</td>\n",
       "      <td>2020</td>\n",
       "      <td>0.000398</td>\n",
       "    </tr>\n",
       "    <tr>\n",
       "      <th>12998</th>\n",
       "      <td>재성</td>\n",
       "      <td>M</td>\n",
       "      <td>20</td>\n",
       "      <td>2020</td>\n",
       "      <td>0.000398</td>\n",
       "    </tr>\n",
       "    <tr>\n",
       "      <th>12999</th>\n",
       "      <td>주빈</td>\n",
       "      <td>M</td>\n",
       "      <td>20</td>\n",
       "      <td>2020</td>\n",
       "      <td>0.000398</td>\n",
       "    </tr>\n",
       "  </tbody>\n",
       "</table>\n",
       "<p>13000 rows × 5 columns</p>\n",
       "</div>"
      ],
      "text/plain": [
       "      name gender  births  year      prop\n",
       "0       서연      F    3280  2008  0.017147\n",
       "1       민서      F    2873  2008  0.015020\n",
       "2       지민      F    2826  2008  0.014774\n",
       "3       서현      F    2606  2008  0.013624\n",
       "4       서윤      F    2484  2008  0.012986\n",
       "...    ...    ...     ...   ...       ...\n",
       "12995   민승      M      20  2020  0.000398\n",
       "12996   규담      M      20  2020  0.000398\n",
       "12997   영웅      M      20  2020  0.000398\n",
       "12998   재성      M      20  2020  0.000398\n",
       "12999   주빈      M      20  2020  0.000398\n",
       "\n",
       "[13000 rows x 5 columns]"
      ]
     },
     "execution_count": 6,
     "metadata": {},
     "output_type": "execute_result"
    }
   ],
   "source": [
    "# 그 해에 해당 이름이 전체에서 차지하는 비율\n",
    "def add_prop(group):\n",
    "    group['prop'] = group.births / group.births.sum()\n",
    "    return group\n",
    "names = names.groupby(['year', 'gender']).apply(add_prop)\n",
    "names"
   ]
  },
  {
   "cell_type": "code",
   "execution_count": 7,
   "metadata": {},
   "outputs": [
    {
     "data": {
      "text/html": [
       "<div>\n",
       "<style scoped>\n",
       "    .dataframe tbody tr th:only-of-type {\n",
       "        vertical-align: middle;\n",
       "    }\n",
       "\n",
       "    .dataframe tbody tr th {\n",
       "        vertical-align: top;\n",
       "    }\n",
       "\n",
       "    .dataframe thead th {\n",
       "        text-align: right;\n",
       "    }\n",
       "</style>\n",
       "<table border=\"1\" class=\"dataframe\">\n",
       "  <thead>\n",
       "    <tr style=\"text-align: right;\">\n",
       "      <th></th>\n",
       "      <th></th>\n",
       "      <th></th>\n",
       "      <th>name</th>\n",
       "      <th>gender</th>\n",
       "      <th>births</th>\n",
       "      <th>year</th>\n",
       "      <th>prop</th>\n",
       "    </tr>\n",
       "    <tr>\n",
       "      <th>year</th>\n",
       "      <th>gender</th>\n",
       "      <th></th>\n",
       "      <th></th>\n",
       "      <th></th>\n",
       "      <th></th>\n",
       "      <th></th>\n",
       "      <th></th>\n",
       "    </tr>\n",
       "  </thead>\n",
       "  <tbody>\n",
       "    <tr>\n",
       "      <th rowspan=\"5\" valign=\"top\">2008</th>\n",
       "      <th rowspan=\"5\" valign=\"top\">F</th>\n",
       "      <th>0</th>\n",
       "      <td>서연</td>\n",
       "      <td>F</td>\n",
       "      <td>3280</td>\n",
       "      <td>2008</td>\n",
       "      <td>0.017147</td>\n",
       "    </tr>\n",
       "    <tr>\n",
       "      <th>1</th>\n",
       "      <td>민서</td>\n",
       "      <td>F</td>\n",
       "      <td>2873</td>\n",
       "      <td>2008</td>\n",
       "      <td>0.015020</td>\n",
       "    </tr>\n",
       "    <tr>\n",
       "      <th>2</th>\n",
       "      <td>지민</td>\n",
       "      <td>F</td>\n",
       "      <td>2826</td>\n",
       "      <td>2008</td>\n",
       "      <td>0.014774</td>\n",
       "    </tr>\n",
       "    <tr>\n",
       "      <th>3</th>\n",
       "      <td>서현</td>\n",
       "      <td>F</td>\n",
       "      <td>2606</td>\n",
       "      <td>2008</td>\n",
       "      <td>0.013624</td>\n",
       "    </tr>\n",
       "    <tr>\n",
       "      <th>4</th>\n",
       "      <td>서윤</td>\n",
       "      <td>F</td>\n",
       "      <td>2484</td>\n",
       "      <td>2008</td>\n",
       "      <td>0.012986</td>\n",
       "    </tr>\n",
       "    <tr>\n",
       "      <th>...</th>\n",
       "      <th>...</th>\n",
       "      <th>...</th>\n",
       "      <td>...</td>\n",
       "      <td>...</td>\n",
       "      <td>...</td>\n",
       "      <td>...</td>\n",
       "      <td>...</td>\n",
       "    </tr>\n",
       "    <tr>\n",
       "      <th rowspan=\"5\" valign=\"top\">2020</th>\n",
       "      <th rowspan=\"5\" valign=\"top\">M</th>\n",
       "      <th>12597</th>\n",
       "      <td>승민</td>\n",
       "      <td>M</td>\n",
       "      <td>126</td>\n",
       "      <td>2020</td>\n",
       "      <td>0.002505</td>\n",
       "    </tr>\n",
       "    <tr>\n",
       "      <th>12598</th>\n",
       "      <td>시환</td>\n",
       "      <td>M</td>\n",
       "      <td>126</td>\n",
       "      <td>2020</td>\n",
       "      <td>0.002505</td>\n",
       "    </tr>\n",
       "    <tr>\n",
       "      <th>12595</th>\n",
       "      <td>재하</td>\n",
       "      <td>M</td>\n",
       "      <td>126</td>\n",
       "      <td>2020</td>\n",
       "      <td>0.002505</td>\n",
       "    </tr>\n",
       "    <tr>\n",
       "      <th>12596</th>\n",
       "      <td>태준</td>\n",
       "      <td>M</td>\n",
       "      <td>126</td>\n",
       "      <td>2020</td>\n",
       "      <td>0.002505</td>\n",
       "    </tr>\n",
       "    <tr>\n",
       "      <th>12599</th>\n",
       "      <td>서율</td>\n",
       "      <td>M</td>\n",
       "      <td>122</td>\n",
       "      <td>2020</td>\n",
       "      <td>0.002426</td>\n",
       "    </tr>\n",
       "  </tbody>\n",
       "</table>\n",
       "<p>2600 rows × 5 columns</p>\n",
       "</div>"
      ],
      "text/plain": [
       "                  name gender  births  year      prop\n",
       "year gender                                          \n",
       "2008 F      0       서연      F    3280  2008  0.017147\n",
       "            1       민서      F    2873  2008  0.015020\n",
       "            2       지민      F    2826  2008  0.014774\n",
       "            3       서현      F    2606  2008  0.013624\n",
       "            4       서윤      F    2484  2008  0.012986\n",
       "...                ...    ...     ...   ...       ...\n",
       "2020 M      12597   승민      M     126  2020  0.002505\n",
       "            12598   시환      M     126  2020  0.002505\n",
       "            12595   재하      M     126  2020  0.002505\n",
       "            12596   태준      M     126  2020  0.002505\n",
       "            12599   서율      M     122  2020  0.002426\n",
       "\n",
       "[2600 rows x 5 columns]"
      ]
     },
     "execution_count": 7,
     "metadata": {},
     "output_type": "execute_result"
    }
   ],
   "source": [
    "# 연도별 / 성별에 따른 선호하는 이름 100개 추출\n",
    "def get_top100(group):\n",
    "    return group.sort_values(by='births', ascending=False)[:100]\n",
    "grouped = names.groupby(['year', 'gender'])\n",
    "top100 = grouped.apply(get_top100)\n",
    "top100"
   ]
  },
  {
   "cell_type": "code",
   "execution_count": 8,
   "metadata": {},
   "outputs": [
    {
     "data": {
      "text/html": [
       "<div>\n",
       "<style scoped>\n",
       "    .dataframe tbody tr th:only-of-type {\n",
       "        vertical-align: middle;\n",
       "    }\n",
       "\n",
       "    .dataframe tbody tr th {\n",
       "        vertical-align: top;\n",
       "    }\n",
       "\n",
       "    .dataframe thead th {\n",
       "        text-align: right;\n",
       "    }\n",
       "</style>\n",
       "<table border=\"1\" class=\"dataframe\">\n",
       "  <thead>\n",
       "    <tr style=\"text-align: right;\">\n",
       "      <th></th>\n",
       "      <th>name</th>\n",
       "      <th>gender</th>\n",
       "      <th>births</th>\n",
       "      <th>year</th>\n",
       "      <th>prop</th>\n",
       "    </tr>\n",
       "  </thead>\n",
       "  <tbody>\n",
       "    <tr>\n",
       "      <th>0</th>\n",
       "      <td>서연</td>\n",
       "      <td>F</td>\n",
       "      <td>3280</td>\n",
       "      <td>2008</td>\n",
       "      <td>0.017147</td>\n",
       "    </tr>\n",
       "    <tr>\n",
       "      <th>1</th>\n",
       "      <td>민서</td>\n",
       "      <td>F</td>\n",
       "      <td>2873</td>\n",
       "      <td>2008</td>\n",
       "      <td>0.015020</td>\n",
       "    </tr>\n",
       "    <tr>\n",
       "      <th>2</th>\n",
       "      <td>지민</td>\n",
       "      <td>F</td>\n",
       "      <td>2826</td>\n",
       "      <td>2008</td>\n",
       "      <td>0.014774</td>\n",
       "    </tr>\n",
       "    <tr>\n",
       "      <th>3</th>\n",
       "      <td>서현</td>\n",
       "      <td>F</td>\n",
       "      <td>2606</td>\n",
       "      <td>2008</td>\n",
       "      <td>0.013624</td>\n",
       "    </tr>\n",
       "    <tr>\n",
       "      <th>4</th>\n",
       "      <td>서윤</td>\n",
       "      <td>F</td>\n",
       "      <td>2484</td>\n",
       "      <td>2008</td>\n",
       "      <td>0.012986</td>\n",
       "    </tr>\n",
       "    <tr>\n",
       "      <th>...</th>\n",
       "      <td>...</td>\n",
       "      <td>...</td>\n",
       "      <td>...</td>\n",
       "      <td>...</td>\n",
       "      <td>...</td>\n",
       "    </tr>\n",
       "    <tr>\n",
       "      <th>2595</th>\n",
       "      <td>승민</td>\n",
       "      <td>M</td>\n",
       "      <td>126</td>\n",
       "      <td>2020</td>\n",
       "      <td>0.002505</td>\n",
       "    </tr>\n",
       "    <tr>\n",
       "      <th>2596</th>\n",
       "      <td>시환</td>\n",
       "      <td>M</td>\n",
       "      <td>126</td>\n",
       "      <td>2020</td>\n",
       "      <td>0.002505</td>\n",
       "    </tr>\n",
       "    <tr>\n",
       "      <th>2597</th>\n",
       "      <td>재하</td>\n",
       "      <td>M</td>\n",
       "      <td>126</td>\n",
       "      <td>2020</td>\n",
       "      <td>0.002505</td>\n",
       "    </tr>\n",
       "    <tr>\n",
       "      <th>2598</th>\n",
       "      <td>태준</td>\n",
       "      <td>M</td>\n",
       "      <td>126</td>\n",
       "      <td>2020</td>\n",
       "      <td>0.002505</td>\n",
       "    </tr>\n",
       "    <tr>\n",
       "      <th>2599</th>\n",
       "      <td>서율</td>\n",
       "      <td>M</td>\n",
       "      <td>122</td>\n",
       "      <td>2020</td>\n",
       "      <td>0.002426</td>\n",
       "    </tr>\n",
       "  </tbody>\n",
       "</table>\n",
       "<p>2600 rows × 5 columns</p>\n",
       "</div>"
      ],
      "text/plain": [
       "     name gender  births  year      prop\n",
       "0      서연      F    3280  2008  0.017147\n",
       "1      민서      F    2873  2008  0.015020\n",
       "2      지민      F    2826  2008  0.014774\n",
       "3      서현      F    2606  2008  0.013624\n",
       "4      서윤      F    2484  2008  0.012986\n",
       "...   ...    ...     ...   ...       ...\n",
       "2595   승민      M     126  2020  0.002505\n",
       "2596   시환      M     126  2020  0.002505\n",
       "2597   재하      M     126  2020  0.002505\n",
       "2598   태준      M     126  2020  0.002505\n",
       "2599   서율      M     122  2020  0.002426\n",
       "\n",
       "[2600 rows x 5 columns]"
      ]
     },
     "execution_count": 8,
     "metadata": {},
     "output_type": "execute_result"
    }
   ],
   "source": [
    "top100.reset_index(inplace=True, drop=True)\n",
    "top100"
   ]
  },
  {
   "cell_type": "code",
   "execution_count": 9,
   "metadata": {},
   "outputs": [
    {
     "data": {
      "text/html": [
       "<div>\n",
       "<style scoped>\n",
       "    .dataframe tbody tr th:only-of-type {\n",
       "        vertical-align: middle;\n",
       "    }\n",
       "\n",
       "    .dataframe tbody tr th {\n",
       "        vertical-align: top;\n",
       "    }\n",
       "\n",
       "    .dataframe thead th {\n",
       "        text-align: right;\n",
       "    }\n",
       "</style>\n",
       "<table border=\"1\" class=\"dataframe\">\n",
       "  <thead>\n",
       "    <tr style=\"text-align: right;\">\n",
       "      <th></th>\n",
       "      <th>name</th>\n",
       "      <th>gender</th>\n",
       "      <th>births</th>\n",
       "      <th>year</th>\n",
       "      <th>prop</th>\n",
       "    </tr>\n",
       "  </thead>\n",
       "  <tbody>\n",
       "    <tr>\n",
       "      <th>100</th>\n",
       "      <td>민준</td>\n",
       "      <td>M</td>\n",
       "      <td>2642</td>\n",
       "      <td>2008</td>\n",
       "      <td>0.015627</td>\n",
       "    </tr>\n",
       "    <tr>\n",
       "      <th>101</th>\n",
       "      <td>지훈</td>\n",
       "      <td>M</td>\n",
       "      <td>2154</td>\n",
       "      <td>2008</td>\n",
       "      <td>0.012741</td>\n",
       "    </tr>\n",
       "    <tr>\n",
       "      <th>102</th>\n",
       "      <td>현우</td>\n",
       "      <td>M</td>\n",
       "      <td>1924</td>\n",
       "      <td>2008</td>\n",
       "      <td>0.011380</td>\n",
       "    </tr>\n",
       "    <tr>\n",
       "      <th>103</th>\n",
       "      <td>준서</td>\n",
       "      <td>M</td>\n",
       "      <td>1885</td>\n",
       "      <td>2008</td>\n",
       "      <td>0.011150</td>\n",
       "    </tr>\n",
       "    <tr>\n",
       "      <th>104</th>\n",
       "      <td>우진</td>\n",
       "      <td>M</td>\n",
       "      <td>1815</td>\n",
       "      <td>2008</td>\n",
       "      <td>0.010736</td>\n",
       "    </tr>\n",
       "    <tr>\n",
       "      <th>...</th>\n",
       "      <td>...</td>\n",
       "      <td>...</td>\n",
       "      <td>...</td>\n",
       "      <td>...</td>\n",
       "      <td>...</td>\n",
       "    </tr>\n",
       "    <tr>\n",
       "      <th>2595</th>\n",
       "      <td>승민</td>\n",
       "      <td>M</td>\n",
       "      <td>126</td>\n",
       "      <td>2020</td>\n",
       "      <td>0.002505</td>\n",
       "    </tr>\n",
       "    <tr>\n",
       "      <th>2596</th>\n",
       "      <td>시환</td>\n",
       "      <td>M</td>\n",
       "      <td>126</td>\n",
       "      <td>2020</td>\n",
       "      <td>0.002505</td>\n",
       "    </tr>\n",
       "    <tr>\n",
       "      <th>2597</th>\n",
       "      <td>재하</td>\n",
       "      <td>M</td>\n",
       "      <td>126</td>\n",
       "      <td>2020</td>\n",
       "      <td>0.002505</td>\n",
       "    </tr>\n",
       "    <tr>\n",
       "      <th>2598</th>\n",
       "      <td>태준</td>\n",
       "      <td>M</td>\n",
       "      <td>126</td>\n",
       "      <td>2020</td>\n",
       "      <td>0.002505</td>\n",
       "    </tr>\n",
       "    <tr>\n",
       "      <th>2599</th>\n",
       "      <td>서율</td>\n",
       "      <td>M</td>\n",
       "      <td>122</td>\n",
       "      <td>2020</td>\n",
       "      <td>0.002426</td>\n",
       "    </tr>\n",
       "  </tbody>\n",
       "</table>\n",
       "<p>1300 rows × 5 columns</p>\n",
       "</div>"
      ],
      "text/plain": [
       "     name gender  births  year      prop\n",
       "100    민준      M    2642  2008  0.015627\n",
       "101    지훈      M    2154  2008  0.012741\n",
       "102    현우      M    1924  2008  0.011380\n",
       "103    준서      M    1885  2008  0.011150\n",
       "104    우진      M    1815  2008  0.010736\n",
       "...   ...    ...     ...   ...       ...\n",
       "2595   승민      M     126  2020  0.002505\n",
       "2596   시환      M     126  2020  0.002505\n",
       "2597   재하      M     126  2020  0.002505\n",
       "2598   태준      M     126  2020  0.002505\n",
       "2599   서율      M     122  2020  0.002426\n",
       "\n",
       "[1300 rows x 5 columns]"
      ]
     },
     "execution_count": 9,
     "metadata": {},
     "output_type": "execute_result"
    }
   ],
   "source": [
    "# 상위 100개의 이름데이터를 남자(boys)와 여자(girls)로 분리\n",
    "boys = top100[top100.gender == 'M']\n",
    "boys"
   ]
  },
  {
   "cell_type": "code",
   "execution_count": 11,
   "metadata": {},
   "outputs": [
    {
     "data": {
      "text/html": [
       "<div>\n",
       "<style scoped>\n",
       "    .dataframe tbody tr th:only-of-type {\n",
       "        vertical-align: middle;\n",
       "    }\n",
       "\n",
       "    .dataframe tbody tr th {\n",
       "        vertical-align: top;\n",
       "    }\n",
       "\n",
       "    .dataframe thead th {\n",
       "        text-align: right;\n",
       "    }\n",
       "</style>\n",
       "<table border=\"1\" class=\"dataframe\">\n",
       "  <thead>\n",
       "    <tr style=\"text-align: right;\">\n",
       "      <th></th>\n",
       "      <th>name</th>\n",
       "      <th>gender</th>\n",
       "      <th>births</th>\n",
       "      <th>year</th>\n",
       "      <th>prop</th>\n",
       "    </tr>\n",
       "  </thead>\n",
       "  <tbody>\n",
       "    <tr>\n",
       "      <th>0</th>\n",
       "      <td>서연</td>\n",
       "      <td>F</td>\n",
       "      <td>3280</td>\n",
       "      <td>2008</td>\n",
       "      <td>0.017147</td>\n",
       "    </tr>\n",
       "    <tr>\n",
       "      <th>1</th>\n",
       "      <td>민서</td>\n",
       "      <td>F</td>\n",
       "      <td>2873</td>\n",
       "      <td>2008</td>\n",
       "      <td>0.015020</td>\n",
       "    </tr>\n",
       "    <tr>\n",
       "      <th>2</th>\n",
       "      <td>지민</td>\n",
       "      <td>F</td>\n",
       "      <td>2826</td>\n",
       "      <td>2008</td>\n",
       "      <td>0.014774</td>\n",
       "    </tr>\n",
       "    <tr>\n",
       "      <th>3</th>\n",
       "      <td>서현</td>\n",
       "      <td>F</td>\n",
       "      <td>2606</td>\n",
       "      <td>2008</td>\n",
       "      <td>0.013624</td>\n",
       "    </tr>\n",
       "    <tr>\n",
       "      <th>4</th>\n",
       "      <td>서윤</td>\n",
       "      <td>F</td>\n",
       "      <td>2484</td>\n",
       "      <td>2008</td>\n",
       "      <td>0.012986</td>\n",
       "    </tr>\n",
       "    <tr>\n",
       "      <th>...</th>\n",
       "      <td>...</td>\n",
       "      <td>...</td>\n",
       "      <td>...</td>\n",
       "      <td>...</td>\n",
       "      <td>...</td>\n",
       "    </tr>\n",
       "    <tr>\n",
       "      <th>2495</th>\n",
       "      <td>지은</td>\n",
       "      <td>F</td>\n",
       "      <td>147</td>\n",
       "      <td>2020</td>\n",
       "      <td>0.002801</td>\n",
       "    </tr>\n",
       "    <tr>\n",
       "      <th>2496</th>\n",
       "      <td>시현</td>\n",
       "      <td>F</td>\n",
       "      <td>146</td>\n",
       "      <td>2020</td>\n",
       "      <td>0.002782</td>\n",
       "    </tr>\n",
       "    <tr>\n",
       "      <th>2497</th>\n",
       "      <td>민아</td>\n",
       "      <td>F</td>\n",
       "      <td>144</td>\n",
       "      <td>2020</td>\n",
       "      <td>0.002744</td>\n",
       "    </tr>\n",
       "    <tr>\n",
       "      <th>2498</th>\n",
       "      <td>이안</td>\n",
       "      <td>F</td>\n",
       "      <td>144</td>\n",
       "      <td>2020</td>\n",
       "      <td>0.002744</td>\n",
       "    </tr>\n",
       "    <tr>\n",
       "      <th>2499</th>\n",
       "      <td>라윤</td>\n",
       "      <td>F</td>\n",
       "      <td>144</td>\n",
       "      <td>2020</td>\n",
       "      <td>0.002744</td>\n",
       "    </tr>\n",
       "  </tbody>\n",
       "</table>\n",
       "<p>1300 rows × 5 columns</p>\n",
       "</div>"
      ],
      "text/plain": [
       "     name gender  births  year      prop\n",
       "0      서연      F    3280  2008  0.017147\n",
       "1      민서      F    2873  2008  0.015020\n",
       "2      지민      F    2826  2008  0.014774\n",
       "3      서현      F    2606  2008  0.013624\n",
       "4      서윤      F    2484  2008  0.012986\n",
       "...   ...    ...     ...   ...       ...\n",
       "2495   지은      F     147  2020  0.002801\n",
       "2496   시현      F     146  2020  0.002782\n",
       "2497   민아      F     144  2020  0.002744\n",
       "2498   이안      F     144  2020  0.002744\n",
       "2499   라윤      F     144  2020  0.002744\n",
       "\n",
       "[1300 rows x 5 columns]"
      ]
     },
     "execution_count": 11,
     "metadata": {},
     "output_type": "execute_result"
    }
   ],
   "source": [
    "# 상위 100개의 이름데이터를 남자(boys)와 여자(girls)로 분리\n",
    "girls = top100[top100.gender == 'F']\n",
    "girls"
   ]
  },
  {
   "cell_type": "code",
   "execution_count": 12,
   "metadata": {},
   "outputs": [
    {
     "name": "stdout",
     "output_type": "stream",
     "text": [
      "<class 'pandas.core.frame.DataFrame'>\n",
      "Int64Index: 13 entries, 2008 to 2020\n",
      "Columns: 321 entries, 가연 to 혜인\n",
      "dtypes: float64(321)\n",
      "memory usage: 32.7 KB\n"
     ]
    }
   ],
   "source": [
    "# 연도와 출생수를 피봇테이블로 변환\n",
    "total_births = top100.pivot_table('births', index='year', columns='name', aggfunc=sum)\n",
    "total_births.info()"
   ]
  },
  {
   "cell_type": "code",
   "execution_count": 13,
   "metadata": {},
   "outputs": [
    {
     "data": {
      "text/plain": [
       "array([<matplotlib.axes._subplots.AxesSubplot object at 0x0000026345826FD0>,\n",
       "       <matplotlib.axes._subplots.AxesSubplot object at 0x000002634584E370>],\n",
       "      dtype=object)"
      ]
     },
     "execution_count": 13,
     "metadata": {},
     "output_type": "execute_result"
    },
    {
     "data": {
      "image/png": "[encoded data removed]",
      "text/plain": [
       "<Figure size 864x720 with 2 Axes>"
      ]
     },
     "metadata": {
      "needs_background": "light"
     },
     "output_type": "display_data"
    }
   ],
   "source": [
    "# 해당이름 시대별 추세\n",
    "subset = total_births[['은지','지원']]\n",
    "subset.plot(subplots=True,figsize =(12,10), grid=False, title='Number of birth per year')"
   ]
  },
  {
   "cell_type": "code",
   "execution_count": 14,
   "metadata": {},
   "outputs": [
    {
     "data": {
      "text/plain": [
       "<matplotlib.axes._subplots.AxesSubplot at 0x26345b4b070>"
      ]
     },
     "execution_count": 14,
     "metadata": {},
     "output_type": "execute_result"
    },
    {
     "data": {
      "text/plain": [
       "<Figure size 432x288 with 0 Axes>"
      ]
     },
     "metadata": {},
     "output_type": "display_data"
    },
    {
     "data": {
      "image/png": "[encoded data removed]",
      "text/plain": [
       "<Figure size 432x288 with 1 Axes>"
      ]
     },
     "metadata": {
      "needs_background": "light"
     },
     "output_type": "display_data"
    }
   ],
   "source": [
    "# top100안에 드는 이름들이 전체기준 얼마나 되는지\n",
    "import matplotlib.pyplot as plt\n",
    "plt.figure()\n",
    "table = top100.pivot_table('prop', index='year', columns='gender', aggfunc=sum)\n",
    "\n",
    "table.plot(title='Sum of table1000.prop by year and sex', xticks=range(2008, 2021, 1)) # 값이 너무 작아서 yticks=np.linspace(0, 1, 1) 지정하기가 힘드네..."
   ]
  },
  {
   "cell_type": "code",
   "execution_count": 15,
   "metadata": {},
   "outputs": [
    {
     "data": {
      "text/plain": [
       "90"
      ]
     },
     "execution_count": 15,
     "metadata": {},
     "output_type": "execute_result"
    }
   ],
   "source": [
    "df = boys[boys.year == 2008]\n",
    "y2008 = df.sort_values(by='prop', ascending=False).prop.cumsum()\n",
    "y2008[:10]\n",
    "y2008.values.searchsorted(0.5)+1"
   ]
  },
  {
   "cell_type": "code",
   "execution_count": 16,
   "metadata": {},
   "outputs": [
    {
     "data": {
      "text/plain": [
       "69"
      ]
     },
     "execution_count": 16,
     "metadata": {},
     "output_type": "execute_result"
    }
   ],
   "source": [
    "df = boys[boys.year == 2018]\n",
    "y2018 = df.sort_values(by='prop', ascending=False).prop.cumsum()\n",
    "y2018[:10]\n",
    "y2018.values.searchsorted(0.5)+1"
   ]
  },
  {
   "cell_type": "code",
   "execution_count": 17,
   "metadata": {},
   "outputs": [
    {
     "data": {
      "text/plain": [
       "<matplotlib.axes._subplots.AxesSubplot at 0x26345d79ee0>"
      ]
     },
     "execution_count": 17,
     "metadata": {},
     "output_type": "execute_result"
    },
    {
     "data": {
      "text/plain": [
       "<Figure size 432x288 with 0 Axes>"
      ]
     },
     "metadata": {},
     "output_type": "display_data"
    },
    {
     "data": {
      "image/png": "[encoded data removed]",
      "text/plain": [
       "<Figure size 432x288 with 1 Axes>"
      ]
     },
     "metadata": {
      "needs_background": "light"
     },
     "output_type": "display_data"
    }
   ],
   "source": [
    "def get_quantile_count(group, q=0.5):\n",
    "    group = group.sort_values(by='prop', ascending=False)\n",
    "    return group.prop.cumsum().values.searchsorted(q) + 1\n",
    "\n",
    "diversity = top100.groupby(['year', 'gender']).apply(get_quantile_count)\n",
    "diversity = diversity.unstack('gender')\n",
    "fig = plt.figure()\n",
    "diversity.plot(title=\"Number of popular names in top 50%\")"
   ]
  },
  {
   "cell_type": "code",
   "execution_count": 18,
   "metadata": {},
   "outputs": [
    {
     "data": {
      "text/html": [
       "<div>\n",
       "<style scoped>\n",
       "    .dataframe tbody tr th:only-of-type {\n",
       "        vertical-align: middle;\n",
       "    }\n",
       "\n",
       "    .dataframe tbody tr th {\n",
       "        vertical-align: top;\n",
       "    }\n",
       "\n",
       "    .dataframe thead tr th {\n",
       "        text-align: left;\n",
       "    }\n",
       "\n",
       "    .dataframe thead tr:last-of-type th {\n",
       "        text-align: right;\n",
       "    }\n",
       "</style>\n",
       "<table border=\"1\" class=\"dataframe\">\n",
       "  <thead>\n",
       "    <tr>\n",
       "      <th>gender</th>\n",
       "      <th colspan=\"3\" halign=\"left\">F</th>\n",
       "      <th colspan=\"3\" halign=\"left\">M</th>\n",
       "    </tr>\n",
       "    <tr>\n",
       "      <th>year</th>\n",
       "      <th>2008</th>\n",
       "      <th>2013</th>\n",
       "      <th>2018</th>\n",
       "      <th>2008</th>\n",
       "      <th>2013</th>\n",
       "      <th>2018</th>\n",
       "    </tr>\n",
       "    <tr>\n",
       "      <th>last_letter</th>\n",
       "      <th></th>\n",
       "      <th></th>\n",
       "      <th></th>\n",
       "      <th></th>\n",
       "      <th></th>\n",
       "      <th></th>\n",
       "    </tr>\n",
       "  </thead>\n",
       "  <tbody>\n",
       "    <tr>\n",
       "      <th>강</th>\n",
       "      <td>NaN</td>\n",
       "      <td>NaN</td>\n",
       "      <td>NaN</td>\n",
       "      <td>106.0</td>\n",
       "      <td>93.0</td>\n",
       "      <td>74.0</td>\n",
       "    </tr>\n",
       "    <tr>\n",
       "      <th>건</th>\n",
       "      <td>NaN</td>\n",
       "      <td>NaN</td>\n",
       "      <td>NaN</td>\n",
       "      <td>1755.0</td>\n",
       "      <td>2122.0</td>\n",
       "      <td>1580.0</td>\n",
       "    </tr>\n",
       "    <tr>\n",
       "      <th>검</th>\n",
       "      <td>NaN</td>\n",
       "      <td>NaN</td>\n",
       "      <td>NaN</td>\n",
       "      <td>NaN</td>\n",
       "      <td>NaN</td>\n",
       "      <td>114.0</td>\n",
       "    </tr>\n",
       "    <tr>\n",
       "      <th>결</th>\n",
       "      <td>184.0</td>\n",
       "      <td>72.0</td>\n",
       "      <td>NaN</td>\n",
       "      <td>1159.0</td>\n",
       "      <td>1065.0</td>\n",
       "      <td>938.0</td>\n",
       "    </tr>\n",
       "    <tr>\n",
       "      <th>겸</th>\n",
       "      <td>NaN</td>\n",
       "      <td>71.0</td>\n",
       "      <td>54.0</td>\n",
       "      <td>92.0</td>\n",
       "      <td>187.0</td>\n",
       "      <td>950.0</td>\n",
       "    </tr>\n",
       "  </tbody>\n",
       "</table>\n",
       "</div>"
      ],
      "text/plain": [
       "gender           F                   M                \n",
       "year          2008  2013  2018    2008    2013    2018\n",
       "last_letter                                           \n",
       "강              NaN   NaN   NaN   106.0    93.0    74.0\n",
       "건              NaN   NaN   NaN  1755.0  2122.0  1580.0\n",
       "검              NaN   NaN   NaN     NaN     NaN   114.0\n",
       "결            184.0  72.0   NaN  1159.0  1065.0   938.0\n",
       "겸              NaN  71.0  54.0    92.0   187.0   950.0"
      ]
     },
     "execution_count": 18,
     "metadata": {},
     "output_type": "execute_result"
    }
   ],
   "source": [
    "# 이름에서 마지막 글자의 변화\n",
    "get_last_letter = lambda x:x[-1]\n",
    "last_letters = names.name.map(get_last_letter)\n",
    "last_letters.name = 'last_letter'\n",
    "\n",
    "table = names.pivot_table('births', index= last_letters, columns=['gender', 'year'], aggfunc=sum)\n",
    "subtable = table.reindex(columns=[2008, 2013, 2018], level='year')\n",
    "subtable.head()"
   ]
  },
  {
   "cell_type": "code",
   "execution_count": 19,
   "metadata": {},
   "outputs": [
    {
     "data": {
      "text/html": [
       "<div>\n",
       "<style scoped>\n",
       "    .dataframe tbody tr th:only-of-type {\n",
       "        vertical-align: middle;\n",
       "    }\n",
       "\n",
       "    .dataframe tbody tr th {\n",
       "        vertical-align: top;\n",
       "    }\n",
       "\n",
       "    .dataframe thead tr th {\n",
       "        text-align: left;\n",
       "    }\n",
       "\n",
       "    .dataframe thead tr:last-of-type th {\n",
       "        text-align: right;\n",
       "    }\n",
       "</style>\n",
       "<table border=\"1\" class=\"dataframe\">\n",
       "  <thead>\n",
       "    <tr>\n",
       "      <th>gender</th>\n",
       "      <th colspan=\"3\" halign=\"left\">F</th>\n",
       "      <th colspan=\"3\" halign=\"left\">M</th>\n",
       "    </tr>\n",
       "    <tr>\n",
       "      <th>year</th>\n",
       "      <th>2008</th>\n",
       "      <th>2013</th>\n",
       "      <th>2018</th>\n",
       "      <th>2008</th>\n",
       "      <th>2013</th>\n",
       "      <th>2018</th>\n",
       "    </tr>\n",
       "    <tr>\n",
       "      <th>last_letter</th>\n",
       "      <th></th>\n",
       "      <th></th>\n",
       "      <th></th>\n",
       "      <th></th>\n",
       "      <th></th>\n",
       "      <th></th>\n",
       "    </tr>\n",
       "  </thead>\n",
       "  <tbody>\n",
       "    <tr>\n",
       "      <th>강</th>\n",
       "      <td>NaN</td>\n",
       "      <td>NaN</td>\n",
       "      <td>NaN</td>\n",
       "      <td>0.000627</td>\n",
       "      <td>0.000537</td>\n",
       "      <td>0.000537</td>\n",
       "    </tr>\n",
       "    <tr>\n",
       "      <th>건</th>\n",
       "      <td>NaN</td>\n",
       "      <td>NaN</td>\n",
       "      <td>NaN</td>\n",
       "      <td>0.010381</td>\n",
       "      <td>0.012259</td>\n",
       "      <td>0.011468</td>\n",
       "    </tr>\n",
       "    <tr>\n",
       "      <th>검</th>\n",
       "      <td>NaN</td>\n",
       "      <td>NaN</td>\n",
       "      <td>NaN</td>\n",
       "      <td>NaN</td>\n",
       "      <td>NaN</td>\n",
       "      <td>0.000827</td>\n",
       "    </tr>\n",
       "    <tr>\n",
       "      <th>결</th>\n",
       "      <td>0.000962</td>\n",
       "      <td>0.000380</td>\n",
       "      <td>NaN</td>\n",
       "      <td>0.006855</td>\n",
       "      <td>0.006152</td>\n",
       "      <td>0.006808</td>\n",
       "    </tr>\n",
       "    <tr>\n",
       "      <th>겸</th>\n",
       "      <td>NaN</td>\n",
       "      <td>0.000374</td>\n",
       "      <td>0.000373</td>\n",
       "      <td>0.000544</td>\n",
       "      <td>0.001080</td>\n",
       "      <td>0.006895</td>\n",
       "    </tr>\n",
       "    <tr>\n",
       "      <th>...</th>\n",
       "      <td>...</td>\n",
       "      <td>...</td>\n",
       "      <td>...</td>\n",
       "      <td>...</td>\n",
       "      <td>...</td>\n",
       "      <td>...</td>\n",
       "    </tr>\n",
       "    <tr>\n",
       "      <th>후</th>\n",
       "      <td>0.003220</td>\n",
       "      <td>0.002836</td>\n",
       "      <td>0.000656</td>\n",
       "      <td>0.012120</td>\n",
       "      <td>0.035459</td>\n",
       "      <td>0.028039</td>\n",
       "    </tr>\n",
       "    <tr>\n",
       "      <th>훈</th>\n",
       "      <td>NaN</td>\n",
       "      <td>NaN</td>\n",
       "      <td>NaN</td>\n",
       "      <td>0.044309</td>\n",
       "      <td>0.031016</td>\n",
       "      <td>0.018988</td>\n",
       "    </tr>\n",
       "    <tr>\n",
       "      <th>훤</th>\n",
       "      <td>NaN</td>\n",
       "      <td>NaN</td>\n",
       "      <td>NaN</td>\n",
       "      <td>NaN</td>\n",
       "      <td>NaN</td>\n",
       "      <td>NaN</td>\n",
       "    </tr>\n",
       "    <tr>\n",
       "      <th>휘</th>\n",
       "      <td>NaN</td>\n",
       "      <td>NaN</td>\n",
       "      <td>NaN</td>\n",
       "      <td>0.001686</td>\n",
       "      <td>0.001306</td>\n",
       "      <td>0.000515</td>\n",
       "    </tr>\n",
       "    <tr>\n",
       "      <th>희</th>\n",
       "      <td>0.035534</td>\n",
       "      <td>0.028397</td>\n",
       "      <td>0.023644</td>\n",
       "      <td>0.012705</td>\n",
       "      <td>0.011063</td>\n",
       "      <td>0.007512</td>\n",
       "    </tr>\n",
       "  </tbody>\n",
       "</table>\n",
       "<p>128 rows × 6 columns</p>\n",
       "</div>"
      ],
      "text/plain": [
       "gender              F                             M                    \n",
       "year             2008      2013      2018      2008      2013      2018\n",
       "last_letter                                                            \n",
       "강                 NaN       NaN       NaN  0.000627  0.000537  0.000537\n",
       "건                 NaN       NaN       NaN  0.010381  0.012259  0.011468\n",
       "검                 NaN       NaN       NaN       NaN       NaN  0.000827\n",
       "결            0.000962  0.000380       NaN  0.006855  0.006152  0.006808\n",
       "겸                 NaN  0.000374  0.000373  0.000544  0.001080  0.006895\n",
       "...               ...       ...       ...       ...       ...       ...\n",
       "후            0.003220  0.002836  0.000656  0.012120  0.035459  0.028039\n",
       "훈                 NaN       NaN       NaN  0.044309  0.031016  0.018988\n",
       "훤                 NaN       NaN       NaN       NaN       NaN       NaN\n",
       "휘                 NaN       NaN       NaN  0.001686  0.001306  0.000515\n",
       "희            0.035534  0.028397  0.023644  0.012705  0.011063  0.007512\n",
       "\n",
       "[128 rows x 6 columns]"
      ]
     },
     "execution_count": 19,
     "metadata": {},
     "output_type": "execute_result"
    }
   ],
   "source": [
    "subtable.sum()\n",
    "letter_prop = subtable / subtable.sum()\n",
    "letter_prop"
   ]
  },
  {
   "cell_type": "code",
   "execution_count": 20,
   "metadata": {},
   "outputs": [
    {
     "data": {
      "text/plain": [
       "<matplotlib.axes._subplots.AxesSubplot at 0x263458c64f0>"
      ]
     },
     "execution_count": 20,
     "metadata": {},
     "output_type": "execute_result"
    },
    {
     "data": {
      "image/png": "[encoded data removed]",
      "text/plain": [
       "<Figure size 2160x1080 with 2 Axes>"
      ]
     },
     "metadata": {
      "needs_background": "light"
     },
     "output_type": "display_data"
    }
   ],
   "source": [
    "import matplotlib.pyplot as plt\n",
    "\n",
    "fig, axes = plt.subplots(2, 1, figsize=(30, 15))\n",
    "letter_prop['M'].plot(kind='bar', rot=0, ax=axes[0], title='Male')\n",
    "letter_prop['F'].plot(kind='bar', rot=0, ax=axes[1], title='Female',\n",
    "                      legend=False)"
   ]
  },
  {
   "cell_type": "code",
   "execution_count": 21,
   "metadata": {},
   "outputs": [
    {
     "data": {
      "text/html": [
       "<div>\n",
       "<style scoped>\n",
       "    .dataframe tbody tr th:only-of-type {\n",
       "        vertical-align: middle;\n",
       "    }\n",
       "\n",
       "    .dataframe tbody tr th {\n",
       "        vertical-align: top;\n",
       "    }\n",
       "\n",
       "    .dataframe thead th {\n",
       "        text-align: right;\n",
       "    }\n",
       "</style>\n",
       "<table border=\"1\" class=\"dataframe\">\n",
       "  <thead>\n",
       "    <tr style=\"text-align: right;\">\n",
       "      <th>last_letter</th>\n",
       "      <th>은</th>\n",
       "      <th>원</th>\n",
       "      <th>우</th>\n",
       "      <th>준</th>\n",
       "    </tr>\n",
       "    <tr>\n",
       "      <th>year</th>\n",
       "      <th></th>\n",
       "      <th></th>\n",
       "      <th></th>\n",
       "      <th></th>\n",
       "    </tr>\n",
       "  </thead>\n",
       "  <tbody>\n",
       "    <tr>\n",
       "      <th>2008</th>\n",
       "      <td>NaN</td>\n",
       "      <td>0.037081</td>\n",
       "      <td>0.098378</td>\n",
       "      <td>0.095745</td>\n",
       "    </tr>\n",
       "    <tr>\n",
       "      <th>2009</th>\n",
       "      <td>NaN</td>\n",
       "      <td>0.035745</td>\n",
       "      <td>0.106945</td>\n",
       "      <td>0.103008</td>\n",
       "    </tr>\n",
       "    <tr>\n",
       "      <th>2010</th>\n",
       "      <td>NaN</td>\n",
       "      <td>0.036200</td>\n",
       "      <td>0.112214</td>\n",
       "      <td>0.112383</td>\n",
       "    </tr>\n",
       "    <tr>\n",
       "      <th>2011</th>\n",
       "      <td>NaN</td>\n",
       "      <td>0.048430</td>\n",
       "      <td>0.113082</td>\n",
       "      <td>0.118197</td>\n",
       "    </tr>\n",
       "    <tr>\n",
       "      <th>2012</th>\n",
       "      <td>NaN</td>\n",
       "      <td>0.043377</td>\n",
       "      <td>0.120518</td>\n",
       "      <td>0.116748</td>\n",
       "    </tr>\n",
       "  </tbody>\n",
       "</table>\n",
       "</div>"
      ],
      "text/plain": [
       "last_letter   은         원         우         준\n",
       "year                                         \n",
       "2008        NaN  0.037081  0.098378  0.095745\n",
       "2009        NaN  0.035745  0.106945  0.103008\n",
       "2010        NaN  0.036200  0.112214  0.112383\n",
       "2011        NaN  0.048430  0.113082  0.118197\n",
       "2012        NaN  0.043377  0.120518  0.116748"
      ]
     },
     "execution_count": 21,
     "metadata": {},
     "output_type": "execute_result"
    }
   ],
   "source": [
    "letter_prop = table / table.sum()\n",
    "dny_ts = letter_prop.loc[['은', '원', '우', '준'], 'M'].T\n",
    "dny_ts.head()"
   ]
  },
  {
   "cell_type": "code",
   "execution_count": 22,
   "metadata": {},
   "outputs": [
    {
     "data": {
      "text/plain": [
       "<matplotlib.axes._subplots.AxesSubplot at 0x26347f70370>"
      ]
     },
     "execution_count": 22,
     "metadata": {},
     "output_type": "execute_result"
    },
    {
     "data": {
      "text/plain": [
       "<Figure size 432x288 with 0 Axes>"
      ]
     },
     "metadata": {},
     "output_type": "display_data"
    },
    {
     "data": {
      "image/png": "[encoded data removed]",
      "text/plain": [
       "<Figure size 432x288 with 1 Axes>"
      ]
     },
     "metadata": {
      "needs_background": "light"
     },
     "output_type": "display_data"
    }
   ],
   "source": [
    "plt.close()\n",
    "fig = plt.figure()\n",
    "dny_ts.plot()"
   ]
  },
  {
   "cell_type": "code",
   "execution_count": 23,
   "metadata": {},
   "outputs": [
    {
     "data": {
      "text/plain": [
       "15     예원\n",
       "16     지원\n",
       "20     채원\n",
       "39     혜원\n",
       "87     정원\n",
       "128    재원\n",
       "147    주원\n",
       "158    승원\n",
       "176    원준\n",
       "216    시원\n",
       "302    서원\n",
       "dtype: object"
      ]
     },
     "execution_count": 23,
     "metadata": {},
     "output_type": "execute_result"
    }
   ],
   "source": [
    "# '원' 은 남자이름으로 쓰다가 여자이름으로 바뀌는 이름 중 하나 인가\n",
    "all_names = pd.Series(top100.name.unique())\n",
    "lesley_like = all_names[all_names.str.contains('원')]\n",
    "lesley_like"
   ]
  },
  {
   "cell_type": "code",
   "execution_count": 24,
   "metadata": {},
   "outputs": [
    {
     "data": {
      "text/plain": [
       "name\n",
       "서원      667\n",
       "승원     3778\n",
       "시원     7622\n",
       "예원    16987\n",
       "원준     2115\n",
       "재원     8535\n",
       "정원     2615\n",
       "주원    24321\n",
       "지원    27334\n",
       "채원    21419\n",
       "혜원     6597\n",
       "Name: births, dtype: int64"
      ]
     },
     "execution_count": 24,
     "metadata": {},
     "output_type": "execute_result"
    }
   ],
   "source": [
    "filtered = top100[top100.name.isin(lesley_like)]\n",
    "filtered.groupby('name').births.sum()"
   ]
  },
  {
   "cell_type": "code",
   "execution_count": 25,
   "metadata": {},
   "outputs": [
    {
     "data": {
      "text/plain": [
       "year  gender\n",
       "2008  F         1.0\n",
       "      M         1.0\n",
       "2009  F         1.0\n",
       "      M         1.0\n",
       "2010  F         1.0\n",
       "      M         1.0\n",
       "2011  F         1.0\n",
       "      M         1.0\n",
       "2012  F         1.0\n",
       "      M         1.0\n",
       "2013  F         1.0\n",
       "      M         1.0\n",
       "2014  F         1.0\n",
       "      M         1.0\n",
       "2015  F         1.0\n",
       "      M         1.0\n",
       "2016  F         1.0\n",
       "      M         1.0\n",
       "2017  F         1.0\n",
       "      M         1.0\n",
       "2018  F         1.0\n",
       "      M         1.0\n",
       "2019  F         1.0\n",
       "      M         1.0\n",
       "2020  F         1.0\n",
       "      M         1.0\n",
       "Name: prop, dtype: float64"
      ]
     },
     "execution_count": 25,
     "metadata": {},
     "output_type": "execute_result"
    }
   ],
   "source": [
    "table = filtered.pivot_table('births', index='year', columns='gender', aggfunc='sum')\n",
    "table = table.div(table.sum(1), axis=0)\n",
    "#table.tail()\n",
    "names.groupby(['year', 'gender']).prop.sum()"
   ]
  },
  {
   "cell_type": "code",
   "execution_count": 26,
   "metadata": {},
   "outputs": [
    {
     "data": {
      "text/plain": [
       "<Figure size 432x288 with 0 Axes>"
      ]
     },
     "metadata": {},
     "output_type": "display_data"
    },
    {
     "data": {
      "image/png": "[encoded data removed]",
      "text/plain": [
       "<Figure size 432x288 with 1 Axes>"
      ]
     },
     "metadata": {
      "needs_background": "light"
     },
     "output_type": "display_data"
    }
   ],
   "source": [
    "fig = plt.figure()\n",
    "table.plot(style={'M': 'c-', 'F': 'm--'})\n",
    "plt.grid()"
   ]
  }
 ],
 "metadata": {
  "kernelspec": {
   "display_name": "Python 3",
   "language": "python",
   "name": "python3"
  },
  "language_info": {
   "codemirror_mode": {
    "name": "ipython",
    "version": 3
   },
   "file_extension": ".py",
   "mimetype": "text/x-python",
   "name": "python",
   "nbconvert_exporter": "python",
   "pygments_lexer": "ipython3",
   "version": "3.8.3"
  }
 },
 "nbformat": 4,
 "nbformat_minor": 4
}
